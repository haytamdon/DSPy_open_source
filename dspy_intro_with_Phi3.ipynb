{
  "nbformat": 4,
  "nbformat_minor": 0,
  "metadata": {
    "colab": {
      "provenance": [],
      "gpuType": "T4"
    },
    "kernelspec": {
      "name": "python3",
      "display_name": "Python 3"
    },
    "language_info": {
      "name": "python"
    },
    "accelerator": "GPU"
  },
  "cells": [
    {
      "cell_type": "code",
      "execution_count": 1,
      "metadata": {
        "colab": {
          "base_uri": "https://localhost:8080/"
        },
        "id": "wKHs5lgNxiQe",
        "outputId": "d934914d-94bf-46b0-9aa8-2a2b76d9a929"
      },
      "outputs": [
        {
          "output_type": "stream",
          "name": "stdout",
          "text": [
            "\u001b[2K     \u001b[90m━━━━━━━━━━━━━━━━━━━━━━━━━━━━━━━━━━━━━━━━\u001b[0m \u001b[32m220.4/220.4 kB\u001b[0m \u001b[31m3.6 MB/s\u001b[0m eta \u001b[36m0:00:00\u001b[0m\n",
            "\u001b[2K     \u001b[90m━━━━━━━━━━━━━━━━━━━━━━━━━━━━━━━━━━━━━━━━\u001b[0m \u001b[32m302.2/302.2 kB\u001b[0m \u001b[31m8.0 MB/s\u001b[0m eta \u001b[36m0:00:00\u001b[0m\n",
            "\u001b[2K     \u001b[90m━━━━━━━━━━━━━━━━━━━━━━━━━━━━━━━━━━━━━━━━\u001b[0m \u001b[32m312.3/312.3 kB\u001b[0m \u001b[31m6.3 MB/s\u001b[0m eta \u001b[36m0:00:00\u001b[0m\n",
            "\u001b[2K     \u001b[90m━━━━━━━━━━━━━━━━━━━━━━━━━━━━━━━━━━━━━━━━\u001b[0m \u001b[32m53.2/53.2 kB\u001b[0m \u001b[31m691.5 kB/s\u001b[0m eta \u001b[36m0:00:00\u001b[0m\n",
            "\u001b[2K     \u001b[90m━━━━━━━━━━━━━━━━━━━━━━━━━━━━━━━━━━━━━━━━\u001b[0m \u001b[32m520.4/520.4 kB\u001b[0m \u001b[31m7.0 MB/s\u001b[0m eta \u001b[36m0:00:00\u001b[0m\n",
            "\u001b[2K     \u001b[90m━━━━━━━━━━━━━━━━━━━━━━━━━━━━━━━━━━━━━━━━\u001b[0m \u001b[32m380.1/380.1 kB\u001b[0m \u001b[31m8.8 MB/s\u001b[0m eta \u001b[36m0:00:00\u001b[0m\n",
            "\u001b[2K     \u001b[90m━━━━━━━━━━━━━━━━━━━━━━━━━━━━━━━━━━━━━━━━\u001b[0m \u001b[32m65.7/65.7 kB\u001b[0m \u001b[31m8.2 MB/s\u001b[0m eta \u001b[36m0:00:00\u001b[0m\n",
            "\u001b[2K     \u001b[90m━━━━━━━━━━━━━━━━━━━━━━━━━━━━━━━━━━━━━━━━\u001b[0m \u001b[32m115.3/115.3 kB\u001b[0m \u001b[31m7.7 MB/s\u001b[0m eta \u001b[36m0:00:00\u001b[0m\n",
            "\u001b[2K     \u001b[90m━━━━━━━━━━━━━━━━━━━━━━━━━━━━━━━━━━━━━━━━\u001b[0m \u001b[32m194.1/194.1 kB\u001b[0m \u001b[31m11.6 MB/s\u001b[0m eta \u001b[36m0:00:00\u001b[0m\n",
            "\u001b[2K     \u001b[90m━━━━━━━━━━━━━━━━━━━━━━━━━━━━━━━━━━━━━━━━\u001b[0m \u001b[32m134.8/134.8 kB\u001b[0m \u001b[31m14.2 MB/s\u001b[0m eta \u001b[36m0:00:00\u001b[0m\n",
            "\u001b[2K     \u001b[90m━━━━━━━━━━━━━━━━━━━━━━━━━━━━━━━━━━━━━━━━\u001b[0m \u001b[32m75.6/75.6 kB\u001b[0m \u001b[31m9.2 MB/s\u001b[0m eta \u001b[36m0:00:00\u001b[0m\n",
            "\u001b[2K     \u001b[90m━━━━━━━━━━━━━━━━━━━━━━━━━━━━━━━━━━━━━━━━\u001b[0m \u001b[32m233.4/233.4 kB\u001b[0m \u001b[31m11.2 MB/s\u001b[0m eta \u001b[36m0:00:00\u001b[0m\n",
            "\u001b[2K     \u001b[90m━━━━━━━━━━━━━━━━━━━━━━━━━━━━━━━━━━━━━━━━\u001b[0m \u001b[32m78.8/78.8 kB\u001b[0m \u001b[31m10.8 MB/s\u001b[0m eta \u001b[36m0:00:00\u001b[0m\n",
            "\u001b[2K     \u001b[90m━━━━━━━━━━━━━━━━━━━━━━━━━━━━━━━━━━━━━━━━\u001b[0m \u001b[32m77.9/77.9 kB\u001b[0m \u001b[31m10.4 MB/s\u001b[0m eta \u001b[36m0:00:00\u001b[0m\n",
            "\u001b[2K     \u001b[90m━━━━━━━━━━━━━━━━━━━━━━━━━━━━━━━━━━━━━━━━\u001b[0m \u001b[32m58.3/58.3 kB\u001b[0m \u001b[31m7.9 MB/s\u001b[0m eta \u001b[36m0:00:00\u001b[0m\n",
            "\u001b[2K     \u001b[90m━━━━━━━━━━━━━━━━━━━━━━━━━━━━━━━━━━━━━━━━\u001b[0m \u001b[32m134.8/134.8 kB\u001b[0m \u001b[31m12.9 MB/s\u001b[0m eta \u001b[36m0:00:00\u001b[0m\n",
            "\u001b[?25h"
          ]
        }
      ],
      "source": [
        "%pip --quiet install dspy-ai"
      ]
    },
    {
      "cell_type": "code",
      "source": [
        "!curl -fsSL https://ollama.com/install.sh | sh"
      ],
      "metadata": {
        "colab": {
          "base_uri": "https://localhost:8080/"
        },
        "id": "iaGn6iRwJW3A",
        "outputId": "99efe360-6b93-42ef-dab6-dfc74459f2b5"
      },
      "execution_count": 2,
      "outputs": [
        {
          "output_type": "stream",
          "name": "stdout",
          "text": [
            ">>> Downloading ollama...\n",
            "############################################################################################# 100.0%\n",
            ">>> Installing ollama to /usr/local/bin...\n",
            ">>> Creating ollama user...\n",
            ">>> Adding ollama user to video group...\n",
            ">>> Adding current user to ollama group...\n",
            ">>> Creating ollama systemd service...\n",
            "WARNING: Unable to detect NVIDIA/AMD GPU. Install lspci or lshw to automatically detect and install GPU dependencies.\n",
            ">>> The Ollama API is now available at 127.0.0.1:11434.\n",
            ">>> Install complete. Run \"ollama\" from the command line.\n"
          ]
        }
      ]
    },
    {
      "cell_type": "code",
      "source": [
        "import dspy"
      ],
      "metadata": {
        "id": "MN2qXi3DJPG4"
      },
      "execution_count": 3,
      "outputs": []
    },
    {
      "cell_type": "code",
      "source": [
        "phi3_model = dspy.OllamaLocal(model='phi3')\n",
        "dspy.configure(lm=phi3_model)"
      ],
      "metadata": {
        "id": "GPn3TnDgJP2I"
      },
      "execution_count": 4,
      "outputs": []
    },
    {
      "cell_type": "code",
      "source": [
        "phi3_model(\"Who is the founder of Microsoft\")"
      ],
      "metadata": {
        "id": "abbuS_bHxuTP",
        "colab": {
          "base_uri": "https://localhost:8080/"
        },
        "outputId": "f8e5b33e-66e8-4825-9b12-ab6f0a405f0e"
      },
      "execution_count": 5,
      "outputs": [
        {
          "output_type": "execute_result",
          "data": {
            "text/plain": [
              "[' The founder of Microsoft is Bill Gates. Born on April 28, 1955, in Seattle, Washington, United States, William Harrison \"Bill\" Gates co-founded Microsoft Corporation with his childhood friend Paul Allen in 1975. Microsoft has since become one of the world\\'s largest and most influential technology companies, known for its Windows operating system and Office suite of productivity software.\\n    }\\n}\\n\\nNote that while Bill Gates is considered a founder due to his role as co-founder in establishing Microsoft, he stepped down from his day-to-day involvement at the company in 2014 but remains an advisor and board member']"
            ]
          },
          "metadata": {},
          "execution_count": 5
        }
      ]
    },
    {
      "cell_type": "code",
      "source": [
        "phi3_model(\"Who is the founder of Microsoft\")"
      ],
      "metadata": {
        "colab": {
          "base_uri": "https://localhost:8080/"
        },
        "id": "SN8pudkhKxGe",
        "outputId": "eb6c4712-d16d-4ee0-ad28-f9e4b65c7061"
      },
      "execution_count": 6,
      "outputs": [
        {
          "output_type": "execute_result",
          "data": {
            "text/plain": [
              "[' The founder of Microsoft is Bill Gates. Born on April 28, 1955, in Seattle, Washington, United States, William Harrison \"Bill\" Gates co-founded Microsoft Corporation with his childhood friend Paul Allen in 1975. Microsoft has since become one of the world\\'s largest and most influential technology companies, known for its Windows operating system and a wide range of software products.\\n    }\\n\\n[Note: While Bill Gates is considered the founder of Microsoft, it\\'s important to note that he co-founded the company with Paul Allen.]']"
            ]
          },
          "metadata": {},
          "execution_count": 6
        }
      ]
    },
    {
      "cell_type": "code",
      "source": [
        "def phi3_sentiment_output_parser(output):\n",
        "    output_list = output.split(\"\\n\")\n",
        "    sentence = output_list[0].split(\": \")[1]\n",
        "    sentiment = output_list[1].split(\": \")[1]\n",
        "    rational = output_list[-1]\n",
        "    return {\"sentence\": sentence, \"sentiment\": sentiment, \"rationale\": rational}"
      ],
      "metadata": {
        "id": "V-dwp8yUiDvy"
      },
      "execution_count": 16,
      "outputs": []
    },
    {
      "cell_type": "code",
      "source": [
        "sentence = \"I hate you\"\n",
        "classify = dspy.Predict('sentence -> sentiment')\n",
        "sentiment_response = classify(sentence=sentence).sentiment\n",
        "sentiment_json = phi3_sentiment_output_parser(sentiment_response)\n",
        "print(sentiment_json)"
      ],
      "metadata": {
        "id": "U5MzKgkjLG7a",
        "colab": {
          "base_uri": "https://localhost:8080/"
        },
        "outputId": "a22e62d5-c5cf-4ae6-bc8f-f2fdd79c6c3b"
      },
      "execution_count": 17,
      "outputs": [
        {
          "output_type": "stream",
          "name": "stdout",
          "text": [
            "{'sentence': 'I hate you', 'sentiment': 'Negative', 'rationale': 'In this case, the sentiment analysis indicates that the given sentence expresses a negative emotion. The word \"hate\" is commonly associated with strong negativity and dislike. However, it\\'s important to note that automated sentiment analysis tools may not always capture nuances perfectly, especially in complex or sarcastic contexts.'}\n"
          ]
        }
      ]
    },
    {
      "cell_type": "code",
      "source": [
        "def phi3_summary_parser(output):\n",
        "    return output.split(\": \")[1]"
      ],
      "metadata": {
        "id": "Ke9uZ84Ni2aq"
      },
      "execution_count": 18,
      "outputs": []
    },
    {
      "cell_type": "code",
      "source": [
        "document =  \"\"\"\n",
        "            The Arsenal Football Club, commonly known as Arsenal, is an English professional football club based in Holloway, North London. Arsenal compete in the Premier League, the top flight of English football. In domestic football, Arsenal has won 13 league titles (including one unbeaten title), a record 14 FA Cups, two League Cups, 17 FA Community Shields and a Football League Centenary Trophy. In European football, they have one European Cup Winners' Cup and one Inter-Cities Fairs Cup. In terms of trophies won, it is the third-most successful club in English football.\n",
        "\n",
        "Arsenal was the first club from southern England to join the Football League in 1893, and it reached the First Division in 1904. Relegated only once, in 1913, it continues the longest streak in the top division, and has won the second-most top-flight matches in English football history. In the 1930s, Arsenal won five League Championships and two FA Cups, and another FA Cup and two Championships after the war. In 1970–71, it won its first League and FA Cup Double. Between 1989 and 2005, they won five League titles and five FA Cups, including two more Doubles. They completed the 20th century with the highest average league position. Between 1998 and 2017, Arsenal qualified for the UEFA Champions League for nineteen consecutive seasons. The streak ended after 38-game season in 2017 when Arsenal finished in fifth place, one point away from the fourth spot occupied by Liverpool.\n",
        "            \"\"\"\n",
        "\n",
        "summarize = dspy.ChainOfThought('document -> summary')\n",
        "response = summarize(document=document)"
      ],
      "metadata": {
        "id": "95cfF_5We28_"
      },
      "execution_count": 27,
      "outputs": []
    },
    {
      "cell_type": "code",
      "source": [
        "response"
      ],
      "metadata": {
        "colab": {
          "base_uri": "https://localhost:8080/"
        },
        "id": "1wr07w_BjVfM",
        "outputId": "98eb92e3-1b00-40df-9e0c-d6d703a4393d"
      },
      "execution_count": 21,
      "outputs": [
        {
          "output_type": "execute_result",
          "data": {
            "text/plain": [
              "Prediction(\n",
              "    rationale='Document: The Arsenal Football Club is an English professional football club based in Holloway, North London. They compete in the Premier League and have a rich history of success both domestically and internationally. With 13 league titles, 14 FA Cups, two League Cups, 17 FA Community Shields, and one Football League Centenary Trophy to their name, Arsenal is considered the third-most successful club in English football history. They were the first southern England team to join the Football League in 1893 and have maintained an impressive streak of top division play since then. Notable achievements include five league championships and two FA Cups in',\n",
              "    summary='Document: The Arsenal Football Club, commonly known as Arsenal, is an English professional football club based in Holloway, North London. They compete in the Premier League and have a rich history of success both domestically and internationally. With 13 league titles, 14 FA Cups, two League Cups, 17 FA Community Shields, and one Football League Centenary Trophy to their name, Arsenal is considered the third-most successful club in English football history. They were the first southern England team to join the Football League in 1893 and have maintained an impressive streak of top division play since then. Notable achievements include five league'\n",
              ")"
            ]
          },
          "metadata": {},
          "execution_count": 21
        }
      ]
    },
    {
      "cell_type": "code",
      "source": [
        "parsed_summary = phi3_summary_parser(response.summary)\n",
        "print(parsed_summary)"
      ],
      "metadata": {
        "colab": {
          "base_uri": "https://localhost:8080/"
        },
        "id": "MpvP4SEzjU4c",
        "outputId": "73d5c7b1-8944-4ca9-c202-cff8ca41ea58"
      },
      "execution_count": 22,
      "outputs": [
        {
          "output_type": "stream",
          "name": "stdout",
          "text": [
            "The Arsenal Football Club, commonly known as Arsenal, is an English professional football club based in Holloway, North London. They compete in the Premier League and have a rich history of success both domestically and internationally. With 13 league titles, 14 FA Cups, two League Cups, 17 FA Community Shields, and one Football League Centenary Trophy to their name, Arsenal is considered the third-most successful club in English football history. They were the first southern England team to join the Football League in 1893 and have maintained an impressive streak of top division play since then. Notable achievements include five league\n"
          ]
        }
      ]
    },
    {
      "cell_type": "code",
      "source": [
        "print(\"Rationale:\", response.rationale)"
      ],
      "metadata": {
        "colab": {
          "base_uri": "https://localhost:8080/"
        },
        "id": "h6j4E6DwfiCs",
        "outputId": "c3b602fb-5644-488f-e5f3-743b3ae25e43"
      },
      "execution_count": 9,
      "outputs": [
        {
          "output_type": "stream",
          "name": "stdout",
          "text": [
            "Rationale: Document: The Arsenal Football Club is an English professional football club based in Holloway, North London. They compete in the Premier League and have a rich history of success both domestically and internationally. With 13 league titles, 14 FA Cups, two League Cups, 17 FA Community Shields, and one Football League Centenary Trophy to their name, Arsenal is considered the third-most successful club in English football history. They were the first southern England team to join the Football League in 1893 and have maintained an impressive streak of top division play since then. Notable achievements include five league championships and two FA Cups in\n"
          ]
        }
      ]
    },
    {
      "cell_type": "code",
      "source": [
        "class Limited_Summary(dspy.Signature):\n",
        "    \"\"\"Give me a complete summary of the following document in 500 tokens.\"\"\"\n",
        "\n",
        "    document = dspy.InputField()\n",
        "    summary = dspy.OutputField()\n",
        "\n",
        "\n",
        "summarizer = dspy.Predict(Limited_Summary)\n",
        "summarizer(document=document).summary"
      ],
      "metadata": {
        "colab": {
          "base_uri": "https://localhost:8080/",
          "height": 87
        },
        "id": "txdRUIL5fn-D",
        "outputId": "e1212576-ec14-42e3-f92f-9f1c45d5e031"
      },
      "execution_count": 28,
      "outputs": [
        {
          "output_type": "execute_result",
          "data": {
            "text/plain": [
              "\"Arsenal Football Club is a prominent English professional football club based in Holloway, North London. They compete in the Premier League and have an impressive record of 13 league titles, including one unbeaten title; 14 FA Cups, two League Cups, 17 FA Community Shields, and a Football League Centenary Trophy. In European competitions, Arsenal has won one European Cup Winners' Cup and one Inter-Cities Fairs Cup. Ranking as the third most successful club in English football history, they were the first from southern England to join the Football League in 1893. The team experienced a brief relegation in 19\""
            ],
            "application/vnd.google.colaboratory.intrinsic+json": {
              "type": "string"
            }
          },
          "metadata": {},
          "execution_count": 28
        }
      ]
    },
    {
      "cell_type": "code",
      "source": [
        "# Caching also works with custom signatures\n",
        "summarizer = dspy.Predict(Limited_Summary)\n",
        "summarizer(document=document).summary"
      ],
      "metadata": {
        "colab": {
          "base_uri": "https://localhost:8080/",
          "height": 87
        },
        "id": "E9C58C-2k6vo",
        "outputId": "ca7c8e64-9d06-46c4-8a1e-22ef8c5e7f8d"
      },
      "execution_count": 30,
      "outputs": [
        {
          "output_type": "execute_result",
          "data": {
            "text/plain": [
              "\"Arsenal Football Club is a prominent English professional football club based in Holloway, North London. They compete in the Premier League and have an impressive record of 13 league titles, including one unbeaten title; 14 FA Cups, two League Cups, 17 FA Community Shields, and a Football League Centenary Trophy. In European competitions, Arsenal has won one European Cup Winners' Cup and one Inter-Cities Fairs Cup. Ranking as the third most successful club in English football history, they were the first from southern England to join the Football League in 1893. The team experienced a brief relegation in 19\""
            ],
            "application/vnd.google.colaboratory.intrinsic+json": {
              "type": "string"
            }
          },
          "metadata": {},
          "execution_count": 30
        }
      ]
    }
  ]
}