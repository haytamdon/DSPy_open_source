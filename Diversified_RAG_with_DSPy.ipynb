{
  "nbformat": 4,
  "nbformat_minor": 0,
  "metadata": {
    "colab": {
      "provenance": [],
      "machine_shape": "hm",
      "gpuType": "V28"
    },
    "kernelspec": {
      "name": "python3",
      "display_name": "Python 3"
    },
    "language_info": {
      "name": "python"
    },
    "accelerator": "TPU"
  },
  "cells": [
    {
      "cell_type": "code",
      "execution_count": 1,
      "metadata": {
        "id": "touIp0ImAw1y",
        "colab": {
          "base_uri": "https://localhost:8080/"
        },
        "outputId": "bf1913fd-9439-49d8-a1a4-c405239fb110"
      },
      "outputs": [
        {
          "output_type": "stream",
          "name": "stdout",
          "text": [
            ">>> Downloading ollama...\n",
            "############################################################################################# 100.0%\n",
            ">>> Installing ollama to /usr/local/bin...\n",
            ">>> Creating ollama user...\n",
            ">>> Adding ollama user to video group...\n",
            ">>> Adding current user to ollama group...\n",
            ">>> Creating ollama systemd service...\n",
            "WARNING: Unable to detect NVIDIA/AMD GPU. Install lspci or lshw to automatically detect and install GPU dependencies.\n",
            ">>> The Ollama API is now available at 127.0.0.1:11434.\n",
            ">>> Install complete. Run \"ollama\" from the command line.\n"
          ]
        }
      ],
      "source": [
        "!curl -fsSL https://ollama.com/install.sh | sh"
      ]
    },
    {
      "cell_type": "code",
      "source": [
        "%pip install -qU pinecone-client pinecone-datasets langchain-pinecone"
      ],
      "metadata": {
        "colab": {
          "base_uri": "https://localhost:8080/"
        },
        "id": "OaNYfWcagqiY",
        "outputId": "c0bb2036-4bde-4cea-fd0d-e81dca2565b0"
      },
      "execution_count": 2,
      "outputs": [
        {
          "output_type": "stream",
          "name": "stdout",
          "text": [
            "\u001b[2K     \u001b[90m━━━━━━━━━━━━━━━━━━━━━━━━━━━━━━━━━━━━━━━━\u001b[0m \u001b[32m214.5/214.5 kB\u001b[0m \u001b[31m1.9 MB/s\u001b[0m eta \u001b[36m0:00:00\u001b[0m\n",
            "\u001b[2K     \u001b[90m━━━━━━━━━━━━━━━━━━━━━━━━━━━━━━━━━━━━━━━━\u001b[0m \u001b[32m169.0/169.0 kB\u001b[0m \u001b[31m8.1 MB/s\u001b[0m eta \u001b[36m0:00:00\u001b[0m\n",
            "\u001b[2K     \u001b[90m━━━━━━━━━━━━━━━━━━━━━━━━━━━━━━━━━━━━━━━━\u001b[0m \u001b[32m215.9/215.9 kB\u001b[0m \u001b[31m7.5 MB/s\u001b[0m eta \u001b[36m0:00:00\u001b[0m\n",
            "\u001b[2K     \u001b[90m━━━━━━━━━━━━━━━━━━━━━━━━━━━━━━━━━━━━━━━━\u001b[0m \u001b[32m34.9/34.9 MB\u001b[0m \u001b[31m27.2 MB/s\u001b[0m eta \u001b[36m0:00:00\u001b[0m\n",
            "\u001b[2K     \u001b[90m━━━━━━━━━━━━━━━━━━━━━━━━━━━━━━━━━━━━━━━━\u001b[0m \u001b[32m3.1/3.1 MB\u001b[0m \u001b[31m81.2 MB/s\u001b[0m eta \u001b[36m0:00:00\u001b[0m\n",
            "\u001b[2K     \u001b[90m━━━━━━━━━━━━━━━━━━━━━━━━━━━━━━━━━━━━━━━━\u001b[0m \u001b[32m303.0/303.0 kB\u001b[0m \u001b[31m22.4 MB/s\u001b[0m eta \u001b[36m0:00:00\u001b[0m\n",
            "\u001b[2K     \u001b[90m━━━━━━━━━━━━━━━━━━━━━━━━━━━━━━━━━━━━━━━━\u001b[0m \u001b[32m1.2/1.2 MB\u001b[0m \u001b[31m47.9 MB/s\u001b[0m eta \u001b[36m0:00:00\u001b[0m\n",
            "\u001b[2K     \u001b[90m━━━━━━━━━━━━━━━━━━━━━━━━━━━━━━━━━━━━━━━━\u001b[0m \u001b[32m116.4/116.4 kB\u001b[0m \u001b[31m9.1 MB/s\u001b[0m eta \u001b[36m0:00:00\u001b[0m\n",
            "\u001b[2K     \u001b[90m━━━━━━━━━━━━━━━━━━━━━━━━━━━━━━━━━━━━━━━━\u001b[0m \u001b[32m53.0/53.0 kB\u001b[0m \u001b[31m4.0 MB/s\u001b[0m eta \u001b[36m0:00:00\u001b[0m\n",
            "\u001b[2K     \u001b[90m━━━━━━━━━━━━━━━━━━━━━━━━━━━━━━━━━━━━━━━━\u001b[0m \u001b[32m76.5/76.5 kB\u001b[0m \u001b[31m7.8 MB/s\u001b[0m eta \u001b[36m0:00:00\u001b[0m\n",
            "\u001b[2K     \u001b[90m━━━━━━━━━━━━━━━━━━━━━━━━━━━━━━━━━━━━━━━━\u001b[0m \u001b[32m12.0/12.0 MB\u001b[0m \u001b[31m46.6 MB/s\u001b[0m eta \u001b[36m0:00:00\u001b[0m\n",
            "\u001b[2K     \u001b[90m━━━━━━━━━━━━━━━━━━━━━━━━━━━━━━━━━━━━━━━━\u001b[0m \u001b[32m239.5/239.5 kB\u001b[0m \u001b[31m20.9 MB/s\u001b[0m eta \u001b[36m0:00:00\u001b[0m\n",
            "\u001b[2K     \u001b[90m━━━━━━━━━━━━━━━━━━━━━━━━━━━━━━━━━━━━━━━━\u001b[0m \u001b[32m124.3/124.3 kB\u001b[0m \u001b[31m10.4 MB/s\u001b[0m eta \u001b[36m0:00:00\u001b[0m\n",
            "\u001b[2K     \u001b[90m━━━━━━━━━━━━━━━━━━━━━━━━━━━━━━━━━━━━━━━━\u001b[0m \u001b[32m301.6/301.6 kB\u001b[0m \u001b[31m21.8 MB/s\u001b[0m eta \u001b[36m0:00:00\u001b[0m\n",
            "\u001b[2K     \u001b[90m━━━━━━━━━━━━━━━━━━━━━━━━━━━━━━━━━━━━━━━━\u001b[0m \u001b[32m142.7/142.7 kB\u001b[0m \u001b[31m13.5 MB/s\u001b[0m eta \u001b[36m0:00:00\u001b[0m\n",
            "\u001b[?25h"
          ]
        }
      ]
    },
    {
      "cell_type": "code",
      "source": [
        "!pip install --quiet langchain_community tiktoken langchainhub langchain langgraph langchain-mistralai"
      ],
      "metadata": {
        "colab": {
          "base_uri": "https://localhost:8080/"
        },
        "id": "t-O1waz8hKA0",
        "outputId": "de3f76a2-fdfa-40ca-e063-1f0ca8e0cc93"
      },
      "execution_count": 3,
      "outputs": [
        {
          "output_type": "stream",
          "name": "stdout",
          "text": [
            "\u001b[2K     \u001b[90m━━━━━━━━━━━━━━━━━━━━━━━━━━━━━━━━━━━━━━━━\u001b[0m \u001b[32m2.0/2.0 MB\u001b[0m \u001b[31m9.8 MB/s\u001b[0m eta \u001b[36m0:00:00\u001b[0m\n",
            "\u001b[2K     \u001b[90m━━━━━━━━━━━━━━━━━━━━━━━━━━━━━━━━━━━━━━━━\u001b[0m \u001b[32m1.8/1.8 MB\u001b[0m \u001b[31m57.1 MB/s\u001b[0m eta \u001b[36m0:00:00\u001b[0m\n",
            "\u001b[2K     \u001b[90m━━━━━━━━━━━━━━━━━━━━━━━━━━━━━━━━━━━━━━━━\u001b[0m \u001b[32m867.6/867.6 kB\u001b[0m \u001b[31m35.5 MB/s\u001b[0m eta \u001b[36m0:00:00\u001b[0m\n",
            "\u001b[2K     \u001b[90m━━━━━━━━━━━━━━━━━━━━━━━━━━━━━━━━━━━━━━━━\u001b[0m \u001b[32m65.8/65.8 kB\u001b[0m \u001b[31m6.9 MB/s\u001b[0m eta \u001b[36m0:00:00\u001b[0m\n",
            "\u001b[2K     \u001b[90m━━━━━━━━━━━━━━━━━━━━━━━━━━━━━━━━━━━━━━━━\u001b[0m \u001b[32m3.1/3.1 MB\u001b[0m \u001b[31m84.0 MB/s\u001b[0m eta \u001b[36m0:00:00\u001b[0m\n",
            "\u001b[2K     \u001b[90m━━━━━━━━━━━━━━━━━━━━━━━━━━━━━━━━━━━━━━━━\u001b[0m \u001b[32m75.6/75.6 kB\u001b[0m \u001b[31m7.9 MB/s\u001b[0m eta \u001b[36m0:00:00\u001b[0m\n",
            "\u001b[2K     \u001b[90m━━━━━━━━━━━━━━━━━━━━━━━━━━━━━━━━━━━━━━━━\u001b[0m \u001b[32m3.6/3.6 MB\u001b[0m \u001b[31m51.0 MB/s\u001b[0m eta \u001b[36m0:00:00\u001b[0m\n",
            "\u001b[2K     \u001b[90m━━━━━━━━━━━━━━━━━━━━━━━━━━━━━━━━━━━━━━━━\u001b[0m \u001b[32m49.3/49.3 kB\u001b[0m \u001b[31m5.2 MB/s\u001b[0m eta \u001b[36m0:00:00\u001b[0m\n",
            "\u001b[2K     \u001b[90m━━━━━━━━━━━━━━━━━━━━━━━━━━━━━━━━━━━━━━━━\u001b[0m \u001b[32m77.9/77.9 kB\u001b[0m \u001b[31m7.7 MB/s\u001b[0m eta \u001b[36m0:00:00\u001b[0m\n",
            "\u001b[2K     \u001b[90m━━━━━━━━━━━━━━━━━━━━━━━━━━━━━━━━━━━━━━━━\u001b[0m \u001b[32m58.3/58.3 kB\u001b[0m \u001b[31m5.0 MB/s\u001b[0m eta \u001b[36m0:00:00\u001b[0m\n",
            "\u001b[2K     \u001b[90m━━━━━━━━━━━━━━━━━━━━━━━━━━━━━━━━━━━━━━━━\u001b[0m \u001b[32m616.0/616.0 kB\u001b[0m \u001b[31m36.5 MB/s\u001b[0m eta \u001b[36m0:00:00\u001b[0m\n",
            "\u001b[?25h\u001b[31mERROR: pip's dependency resolver does not currently take into account all the packages that are installed. This behaviour is the source of the following dependency conflicts.\n",
            "transformers 4.40.1 requires tokenizers<0.20,>=0.19, but you have tokenizers 0.15.2 which is incompatible.\u001b[0m\u001b[31m\n",
            "\u001b[0m"
          ]
        }
      ]
    },
    {
      "cell_type": "code",
      "source": [
        "%pip install --upgrade --quiet  wikipedia"
      ],
      "metadata": {
        "colab": {
          "base_uri": "https://localhost:8080/"
        },
        "id": "TMMDKUx0hfTG",
        "outputId": "ae49c1df-da1d-462f-f891-ecb763ce1a40"
      },
      "execution_count": 4,
      "outputs": [
        {
          "output_type": "stream",
          "name": "stdout",
          "text": [
            "  Preparing metadata (setup.py) ... \u001b[?25l\u001b[?25hdone\n",
            "  Building wheel for wikipedia (setup.py) ... \u001b[?25l\u001b[?25hdone\n"
          ]
        }
      ]
    },
    {
      "cell_type": "code",
      "source": [
        "%pip --quiet install dspy-ai"
      ],
      "metadata": {
        "colab": {
          "base_uri": "https://localhost:8080/"
        },
        "id": "cYnzimVCX11a",
        "outputId": "dc013018-e140-428c-d783-bb8a422a1e97"
      },
      "execution_count": 5,
      "outputs": [
        {
          "output_type": "stream",
          "name": "stdout",
          "text": [
            "\u001b[2K     \u001b[90m━━━━━━━━━━━━━━━━━━━━━━━━━━━━━━━━━━━━━━━━\u001b[0m \u001b[32m220.4/220.4 kB\u001b[0m \u001b[31m2.4 MB/s\u001b[0m eta \u001b[36m0:00:00\u001b[0m\n",
            "\u001b[2K     \u001b[90m━━━━━━━━━━━━━━━━━━━━━━━━━━━━━━━━━━━━━━━━\u001b[0m \u001b[32m302.2/302.2 kB\u001b[0m \u001b[31m6.9 MB/s\u001b[0m eta \u001b[36m0:00:00\u001b[0m\n",
            "\u001b[2K     \u001b[90m━━━━━━━━━━━━━━━━━━━━━━━━━━━━━━━━━━━━━━━━\u001b[0m \u001b[32m312.9/312.9 kB\u001b[0m \u001b[31m17.6 MB/s\u001b[0m eta \u001b[36m0:00:00\u001b[0m\n",
            "\u001b[2K     \u001b[90m━━━━━━━━━━━━━━━━━━━━━━━━━━━━━━━━━━━━━━━━\u001b[0m \u001b[32m53.2/53.2 kB\u001b[0m \u001b[31m4.3 MB/s\u001b[0m eta \u001b[36m0:00:00\u001b[0m\n",
            "\u001b[2K     \u001b[90m━━━━━━━━━━━━━━━━━━━━━━━━━━━━━━━━━━━━━━━━\u001b[0m \u001b[32m520.4/520.4 kB\u001b[0m \u001b[31m21.1 MB/s\u001b[0m eta \u001b[36m0:00:00\u001b[0m\n",
            "\u001b[2K     \u001b[90m━━━━━━━━━━━━━━━━━━━━━━━━━━━━━━━━━━━━━━━━\u001b[0m \u001b[32m380.1/380.1 kB\u001b[0m \u001b[31m25.6 MB/s\u001b[0m eta \u001b[36m0:00:00\u001b[0m\n",
            "\u001b[2K     \u001b[90m━━━━━━━━━━━━━━━━━━━━━━━━━━━━━━━━━━━━━━━━\u001b[0m \u001b[32m409.3/409.3 kB\u001b[0m \u001b[31m26.8 MB/s\u001b[0m eta \u001b[36m0:00:00\u001b[0m\n",
            "\u001b[2K     \u001b[90m━━━━━━━━━━━━━━━━━━━━━━━━━━━━━━━━━━━━━━━━\u001b[0m \u001b[32m65.7/65.7 kB\u001b[0m \u001b[31m7.2 MB/s\u001b[0m eta \u001b[36m0:00:00\u001b[0m\n",
            "\u001b[2K     \u001b[90m━━━━━━━━━━━━━━━━━━━━━━━━━━━━━━━━━━━━━━━━\u001b[0m \u001b[32m115.3/115.3 kB\u001b[0m \u001b[31m9.9 MB/s\u001b[0m eta \u001b[36m0:00:00\u001b[0m\n",
            "\u001b[2K     \u001b[90m━━━━━━━━━━━━━━━━━━━━━━━━━━━━━━━━━━━━━━━━\u001b[0m \u001b[32m194.1/194.1 kB\u001b[0m \u001b[31m15.4 MB/s\u001b[0m eta \u001b[36m0:00:00\u001b[0m\n",
            "\u001b[2K     \u001b[90m━━━━━━━━━━━━━━━━━━━━━━━━━━━━━━━━━━━━━━━━\u001b[0m \u001b[32m134.8/134.8 kB\u001b[0m \u001b[31m10.4 MB/s\u001b[0m eta \u001b[36m0:00:00\u001b[0m\n",
            "\u001b[2K     \u001b[90m━━━━━━━━━━━━━━━━━━━━━━━━━━━━━━━━━━━━━━━━\u001b[0m \u001b[32m166.4/166.4 kB\u001b[0m \u001b[31m14.3 MB/s\u001b[0m eta \u001b[36m0:00:00\u001b[0m\n",
            "\u001b[2K     \u001b[90m━━━━━━━━━━━━━━━━━━━━━━━━━━━━━━━━━━━━━━━━\u001b[0m \u001b[32m233.4/233.4 kB\u001b[0m \u001b[31m21.9 MB/s\u001b[0m eta \u001b[36m0:00:00\u001b[0m\n",
            "\u001b[2K     \u001b[90m━━━━━━━━━━━━━━━━━━━━━━━━━━━━━━━━━━━━━━━━\u001b[0m \u001b[32m78.8/78.8 kB\u001b[0m \u001b[31m7.5 MB/s\u001b[0m eta \u001b[36m0:00:00\u001b[0m\n",
            "\u001b[2K     \u001b[90m━━━━━━━━━━━━━━━━━━━━━━━━━━━━━━━━━━━━━━━━\u001b[0m \u001b[32m134.8/134.8 kB\u001b[0m \u001b[31m12.5 MB/s\u001b[0m eta \u001b[36m0:00:00\u001b[0m\n",
            "\u001b[?25h\u001b[31mERROR: pip's dependency resolver does not currently take into account all the packages that are installed. This behaviour is the source of the following dependency conflicts.\n",
            "gcsfs 2023.12.2.post1 requires fsspec==2023.12.2, but you have fsspec 2023.10.0 which is incompatible.\n",
            "pinecone-datasets 0.7.0 requires pydantic<2.0.0,>=1.10.5, but you have pydantic 2.7.1 which is incompatible.\n",
            "s3fs 2023.12.2 requires fsspec==2023.12.2, but you have fsspec 2023.10.0 which is incompatible.\n",
            "transformers 4.40.1 requires tokenizers<0.20,>=0.19, but you have tokenizers 0.15.2 which is incompatible.\u001b[0m\u001b[31m\n",
            "\u001b[0m"
          ]
        }
      ]
    },
    {
      "cell_type": "code",
      "source": [
        "import os\n",
        "import bs4\n",
        "from langchain_core.output_parsers import StrOutputParser\n",
        "from langchain_core.prompts import ChatPromptTemplate, PromptTemplate\n",
        "from langchain_community.chat_models import ChatOllama\n",
        "from langchain.text_splitter import RecursiveCharacterTextSplitter\n",
        "from langchain_core.output_parsers import StrOutputParser\n",
        "import pinecone\n",
        "from pinecone import Pinecone, ServerlessSpec, PodSpec\n",
        "from langchain_community.document_loaders import WikipediaLoader\n",
        "from google.colab import userdata\n",
        "import time\n",
        "from langchain import hub\n",
        "from langchain_community.embeddings import OllamaEmbeddings\n",
        "from langchain.docstore.document import Document\n",
        "from langchain_community.vectorstores import Chroma\n",
        "from langchain.utils.math import cosine_similarity\n",
        "import dspy"
      ],
      "metadata": {
        "id": "0v_-AN9Sh3tC"
      },
      "execution_count": 6,
      "outputs": []
    },
    {
      "cell_type": "code",
      "source": [
        "\n",
        "os.environ['LANGCHAIN_TRACING_V2'] = 'true'\n",
        "os.environ['LANGCHAIN_ENDPOINT'] = 'https://api.smith.langchain.com'\n",
        "# In the following two lines either replace the function with\n",
        "# your API keys or save them in the secrets section in google\n",
        "# colab\n",
        "os.environ['LANGCHAIN_API_KEY'] = userdata.get('LANGCHAIN_API_KEY')\n",
        "os.environ['PINECONE_API_KEY'] = userdata.get('PINECONE_API_KEY')\n",
        "pinecone_api_key = os.environ['PINECONE_API_KEY']\n",
        "use_serverless = True"
      ],
      "metadata": {
        "id": "K__emIbAiALf"
      },
      "execution_count": 7,
      "outputs": []
    },
    {
      "cell_type": "code",
      "source": [
        "aero_docs = WikipediaLoader(query=\"Aeronautics\", lang=\"en\", load_max_docs=1).load()\n",
        "aero_docs.extend(WikipediaLoader(query=\"Aerospace engineering\", lang=\"en\", load_max_docs=1).load())\n",
        "aero_docs.extend(WikipediaLoader(query=\"Avionics\", lang=\"en\", load_max_docs=1).load())\n",
        "aero_docs.extend(WikipediaLoader(query=\"Flight dynamics\", lang=\"en\", load_max_docs=1).load())\n",
        "aero_docs.extend(WikipediaLoader(query=\"Aircraft design process\", lang=\"en\", load_max_docs=1).load())\n",
        "aero_docs.extend(WikipediaLoader(query=\"Aircraft flight control system\", lang=\"en\", load_max_docs=1).load())\n",
        "aero_docs.extend(WikipediaLoader(query=\"Aircraft flight mechanics\", lang=\"en\", load_max_docs=1).load())"
      ],
      "metadata": {
        "id": "OMgGbA5Eiswr"
      },
      "execution_count": 8,
      "outputs": []
    },
    {
      "cell_type": "code",
      "source": [
        "naval_docs = WikipediaLoader(query=\"Naval architecture\", lang=\"en\", load_max_docs=1).load()\n",
        "naval_docs.extend(WikipediaLoader(query=\"Ship stability\", lang=\"en\", load_max_docs=1).load())\n",
        "naval_docs.extend(WikipediaLoader(query=\"Hydraulic engineering\", lang=\"en\", load_max_docs=1).load())\n",
        "# naval_docs.extend(WikipediaLoader(query=\"Flight dynamics\", lang=\"en\", load_max_docs=1).load())\n",
        "naval_docs.extend(WikipediaLoader(query=\"Fluid dynamics\", lang=\"en\", load_max_docs=1).load())\n",
        "naval_docs.extend(WikipediaLoader(query=\"Hydrostatics\", lang=\"en\", load_max_docs=1).load())\n",
        "naval_docs.extend(WikipediaLoader(query=\"Marine engineering\", lang=\"en\", load_max_docs=1).load())"
      ],
      "metadata": {
        "id": "0815BGx2RaUW"
      },
      "execution_count": 9,
      "outputs": []
    },
    {
      "cell_type": "code",
      "source": [
        "def doc_chunk(docs, chunk_size= 5000, chunk_overlap= 500):\n",
        "  # Split\n",
        "  text_splitter = RecursiveCharacterTextSplitter.from_tiktoken_encoder(\n",
        "      chunk_size = chunk_size,\n",
        "      chunk_overlap = chunk_overlap)\n",
        "\n",
        "  # Make splits\n",
        "  splits = text_splitter.split_documents(docs)\n",
        "  return splits"
      ],
      "metadata": {
        "id": "uuKPxwlCRd_t"
      },
      "execution_count": 10,
      "outputs": []
    },
    {
      "cell_type": "code",
      "source": [
        "summary_naval_splits = doc_chunk(naval_docs)\n",
        "summary_aero_splits = doc_chunk(aero_docs)"
      ],
      "metadata": {
        "id": "STcGgKHFRgCS"
      },
      "execution_count": 11,
      "outputs": []
    },
    {
      "cell_type": "code",
      "source": [
        "retrieval_naval_splits = doc_chunk(naval_docs, chunk_size=500, chunk_overlap=50)\n",
        "retrieval_aero_splits = doc_chunk(aero_docs, chunk_size=500, chunk_overlap=50)"
      ],
      "metadata": {
        "id": "PFhBAXYkRgl9"
      },
      "execution_count": 12,
      "outputs": []
    },
    {
      "cell_type": "code",
      "source": [
        "class Limited_Summary(dspy.Signature):\n",
        "    \"\"\"Give me a complete summary of the following document in 500 tokens.\"\"\"\n",
        "\n",
        "    document = dspy.InputField()\n",
        "    summary = dspy.OutputField()"
      ],
      "metadata": {
        "id": "Yh0dafRIlblJ"
      },
      "execution_count": 13,
      "outputs": []
    },
    {
      "cell_type": "code",
      "source": [
        "def get_split_summary(split):\n",
        "    summarizer = dspy.Predict(Limited_Summary)\n",
        "    summary = summarizer(document=split.page_content).summary\n",
        "    # summary = \":\".join(summary.split(\":\")[1:])\n",
        "    summary_doc = Document(page_content=summary, metadata=split.metadata)\n",
        "    return summary_doc"
      ],
      "metadata": {
        "id": "_QhVJ5NSRmCn"
      },
      "execution_count": 14,
      "outputs": []
    },
    {
      "cell_type": "code",
      "source": [
        "summary_local_llm = \"phi3\"\n",
        "\n",
        "phi3_model = dspy.OllamaLocal(model=summary_local_llm)\n",
        "\n",
        "dspy.configure(lm=phi3_model)"
      ],
      "metadata": {
        "id": "gEbMFvNcW67v"
      },
      "execution_count": 15,
      "outputs": []
    },
    {
      "cell_type": "code",
      "source": [
        "def summarize_all_splits(summary_naval_splits, summary_aero_splits):\n",
        "  aero_summary_docs = []\n",
        "  naval_summary_docs = []\n",
        "  for split in summary_naval_splits:\n",
        "    summary_doc = get_split_summary(split)\n",
        "    time.sleep(1)\n",
        "    print(\"doc ok\")\n",
        "    naval_summary_docs.append(summary_doc)\n",
        "  for split in summary_aero_splits:\n",
        "    summary_doc = get_split_summary(split)\n",
        "    time.sleep(1)\n",
        "    print(\"doc ok\")\n",
        "    aero_summary_docs.append(summary_doc)\n",
        "  return aero_summary_docs, naval_summary_docs"
      ],
      "metadata": {
        "id": "DK1kKWMMXBIy"
      },
      "execution_count": 16,
      "outputs": []
    },
    {
      "cell_type": "code",
      "source": [
        "aero_summary_docs, naval_summary_docs = summarize_all_splits(summary_naval_splits, summary_aero_splits)"
      ],
      "metadata": {
        "colab": {
          "base_uri": "https://localhost:8080/"
        },
        "id": "DDbUONH8XFGD",
        "outputId": "586a4223-39d3-4e47-aeb5-817c5de4e150"
      },
      "execution_count": 17,
      "outputs": [
        {
          "output_type": "stream",
          "name": "stdout",
          "text": [
            "doc ok\n",
            "doc ok\n",
            "doc ok\n",
            "doc ok\n",
            "doc ok\n",
            "doc ok\n",
            "doc ok\n",
            "doc ok\n",
            "doc ok\n",
            "doc ok\n",
            "doc ok\n",
            "doc ok\n",
            "doc ok\n"
          ]
        }
      ]
    },
    {
      "cell_type": "code",
      "source": [
        "def summarize_all_docs(docs):\n",
        "    combined_doc = \"\\n\".join([doc.page_content for doc in docs])\n",
        "    summarizer = dspy.Predict(Limited_Summary)\n",
        "    summary = summarizer(document=combined_doc).summary\n",
        "    # summary = \":\".join(summary.split(\":\")[1:])\n",
        "    summary_doc = Document(page_content=summary)\n",
        "    return summary_doc"
      ],
      "metadata": {
        "id": "AaGvUUglXHq6"
      },
      "execution_count": 18,
      "outputs": []
    },
    {
      "cell_type": "code",
      "source": [
        "aero_summary = summarize_all_docs(aero_summary_docs)\n",
        "naval_summary = summarize_all_docs(naval_summary_docs)"
      ],
      "metadata": {
        "id": "QpqkCxiAXKS3"
      },
      "execution_count": 19,
      "outputs": []
    },
    {
      "cell_type": "code",
      "source": [
        "naval_summary"
      ],
      "metadata": {
        "colab": {
          "base_uri": "https://localhost:8080/"
        },
        "id": "8qF6ufiWY6CO",
        "outputId": "524c47f2-41c7-49d6-c95e-030cfcdaea77"
      },
      "execution_count": 20,
      "outputs": [
        {
          "output_type": "execute_result",
          "data": {
            "text/plain": [
              "Document(page_content=\"Naval architecture involves various engineering disciplines applied in shipbuilding, maintenance, and operation. It encompasses mechanical, electrical, electronic, software, safety engineering, research, design, development, calculations during a vessel's life cycle, formulating regulations, approval, and certification to meet statutory requirements. Key subjects include hydrostatics (buoyancy), hydrodynamics (fluid in motion), fluid statics (fluids at rest), aerodynamics for air/gases, and astrophysics applications. Historical contributions from figures like Heron of Alexandria have shaped our understanding of pressure in fluids at rest. Marine engineering integrates multiple disciplines to develop watercraft propulsion\")"
            ]
          },
          "metadata": {},
          "execution_count": 20
        }
      ]
    },
    {
      "cell_type": "code",
      "source": [
        "retrieval_naval_splits = retrieval_naval_splits[:-1]\n",
        "retrieval_aero_splits = retrieval_aero_splits[:-1]"
      ],
      "metadata": {
        "id": "5rl-twxhV_1J"
      },
      "execution_count": 21,
      "outputs": []
    },
    {
      "cell_type": "code",
      "source": [
        "retrieval_naval_splits = retrieval_naval_splits + naval_summary_docs\n",
        "retrieval_naval_splits.append(naval_summary)\n",
        "retrieval_aero_splits = retrieval_aero_splits + aero_summary_docs\n",
        "retrieval_aero_splits.append(aero_summary)"
      ],
      "metadata": {
        "id": "DQ_bOJhXK1DA"
      },
      "execution_count": 22,
      "outputs": []
    },
    {
      "cell_type": "code",
      "source": [
        "embeddings = OllamaEmbeddings(model=\"mxbai-embed-large\")"
      ],
      "metadata": {
        "id": "YNsc4gDTK38H"
      },
      "execution_count": 23,
      "outputs": []
    },
    {
      "cell_type": "code",
      "source": [
        "pc = Pinecone(api_key=pinecone_api_key)\n",
        "\n",
        "def create_pinecone_index(pc, index_name, embedding_dim = 1024, use_serverless = True, metric = \"dotproduct\"):\n",
        "    if use_serverless:\n",
        "        spec = ServerlessSpec(cloud='aws', region='us-west-2')\n",
        "    else:\n",
        "        # if not using a starter index, you should specify a pod_type too\n",
        "        spec = PodSpec()\n",
        "    # check for and delete index if already exists\n",
        "    if index_name in pc.list_indexes().names():\n",
        "        pc.delete_index(index_name)\n",
        "    # create a new index\n",
        "    pc.create_index(\n",
        "        index_name,\n",
        "        dimension= embedding_dim,  # dimensionality of the embedding model\n",
        "        metric= metric,\n",
        "        spec=spec\n",
        "    )\n",
        "    # wait for index to be initialized\n",
        "    while not pc.describe_index(index_name).status['ready']:\n",
        "        time.sleep(1)"
      ],
      "metadata": {
        "id": "wsyRi6QXK6qQ"
      },
      "execution_count": 24,
      "outputs": []
    },
    {
      "cell_type": "code",
      "source": [
        "create_pinecone_index(pc, \"aero-db\")\n",
        "create_pinecone_index(pc, \"naval-db\")"
      ],
      "metadata": {
        "id": "ryd6EDp-K9Qt"
      },
      "execution_count": 25,
      "outputs": []
    },
    {
      "cell_type": "code",
      "source": [
        "from langchain.vectorstores import Pinecone\n",
        "def create_pinecone_vectorstore(splits, embeddings, index_name):\n",
        "  vectorstore = Pinecone.from_documents(splits, embeddings, index_name = index_name)\n",
        "  retriever = vectorstore.as_retriever()\n",
        "  return vectorstore, retriever"
      ],
      "metadata": {
        "id": "H7EeKOBgK_O5"
      },
      "execution_count": 26,
      "outputs": []
    },
    {
      "cell_type": "code",
      "source": [
        "len(retrieval_naval_splits)"
      ],
      "metadata": {
        "colab": {
          "base_uri": "https://localhost:8080/"
        },
        "id": "SOMDkNPBgOkI",
        "outputId": "ce8c58c8-2a1c-43ff-8f65-90ca7fdf0700"
      },
      "execution_count": 27,
      "outputs": [
        {
          "output_type": "execute_result",
          "data": {
            "text/plain": [
              "20"
            ]
          },
          "metadata": {},
          "execution_count": 27
        }
      ]
    },
    {
      "cell_type": "code",
      "source": [
        "aero_vectorstore, aero_retriever = create_pinecone_vectorstore(retrieval_aero_splits, embeddings, \"aero-db\")\n",
        "naval_vectorstore, naval_retriever = create_pinecone_vectorstore(retrieval_naval_splits, embeddings, \"naval-db\")"
      ],
      "metadata": {
        "id": "irW0oKlULBwb"
      },
      "execution_count": 28,
      "outputs": []
    },
    {
      "cell_type": "code",
      "source": [
        "summaries = [aero_summary, naval_summary]\n",
        "summary_names = [\"aero\", \"naval\"]\n",
        "summary_embeddings = embeddings.embed_documents(summaries)"
      ],
      "metadata": {
        "id": "AiipVzzzLFNb"
      },
      "execution_count": 29,
      "outputs": []
    },
    {
      "cell_type": "code",
      "source": [
        "def query_router(query):\n",
        "    # Embed question\n",
        "    query_embedding = embeddings.embed_query(query)\n",
        "    # Compute similarity\n",
        "    similarity = cosine_similarity([query_embedding], summary_embeddings)[0]\n",
        "    most_similar = summary_names[similarity.argmax()]\n",
        "    return most_similar\n",
        "\n",
        "def query_retriever(query, most_similar):\n",
        "    if most_similar == \"aero\":\n",
        "        return aero_retriever.get_relevant_documents(query)\n",
        "    else:\n",
        "        return naval_retriever.get_relevant_documents(query)"
      ],
      "metadata": {
        "id": "ISCUH1Z_LHDp"
      },
      "execution_count": 30,
      "outputs": []
    },
    {
      "cell_type": "code",
      "source": [
        "class GenerateAnswer(dspy.Signature):\n",
        "    \"\"\"Answer questions with short factoid answers.\"\"\"\n",
        "\n",
        "    context = dspy.InputField(desc=\"may contain relevant facts\")\n",
        "    question = dspy.InputField()\n",
        "    answer = dspy.OutputField()"
      ],
      "metadata": {
        "id": "fCa9TMjAUtFz"
      },
      "execution_count": 31,
      "outputs": []
    },
    {
      "cell_type": "code",
      "source": [
        "rag_local_llm = \"llama3:8b\"\n",
        "\n",
        "rag_llm = ChatOllama(model=rag_local_llm, temperature=0.75)\n",
        "\n",
        "llama3_model = dspy.OllamaLocal(model=summary_local_llm)\n",
        "\n",
        "dspy.configure(lm=llama3_model)"
      ],
      "metadata": {
        "id": "sRGPIuv8WQ59"
      },
      "execution_count": 32,
      "outputs": []
    },
    {
      "cell_type": "code",
      "source": [
        "question = \"What are the fundamental concept of fluid mechanics\"\n",
        "route = query_router(question)\n",
        "retrieved_docs = query_retriever(question, route)\n",
        "prompt = hub.pull(\"rlm/rag-prompt\")\n",
        "rag_chain = prompt | rag_llm | StrOutputParser()\n",
        "result = rag_chain.invoke({\"context\": retrieved_docs, \"question\": question})"
      ],
      "metadata": {
        "id": "O30XYoh6LOb3"
      },
      "execution_count": 39,
      "outputs": []
    },
    {
      "cell_type": "code",
      "source": [
        "route"
      ],
      "metadata": {
        "colab": {
          "base_uri": "https://localhost:8080/",
          "height": 35
        },
        "id": "vEWA-sugYTjw",
        "outputId": "6891c579-120c-41ba-80f1-cc206a2c2497"
      },
      "execution_count": 40,
      "outputs": [
        {
          "output_type": "execute_result",
          "data": {
            "text/plain": [
              "'naval'"
            ],
            "application/vnd.google.colaboratory.intrinsic+json": {
              "type": "string"
            }
          },
          "metadata": {},
          "execution_count": 40
        }
      ]
    },
    {
      "cell_type": "code",
      "source": [
        "retrieved_docs"
      ],
      "metadata": {
        "colab": {
          "base_uri": "https://localhost:8080/"
        },
        "id": "Ay_ASg5BYlWq",
        "outputId": "62db3898-f8bc-451b-e372-1298a2ba46c2"
      },
      "execution_count": 41,
      "outputs": [
        {
          "output_type": "execute_result",
          "data": {
            "text/plain": [
              "[Document(page_content=\"Fluid statics or hydrostatics studies fluids at hydrostatic equilibrium and the pressure exerted by a fluid on an immersed body. It contrasts with hydrodynamics, which focuses on flowing fluids. The fundamental principle in fluid mechanics is Pascal's Law, stating that any applied pressure to a fluid surface is transmitted uniformly throughout the fluid. Heron of Alexandria invented devices like Heron's fountain and Pythagoras designed learning tools such as the line-carved cup with overflowing mechanism when filled beyond its limit. These historical contributions have shaped our understanding of pressure in fluids at rest, where a point within the fluid experiences equal pressure on all sides\", metadata={'source': 'https://en.wikipedia.org/wiki/Hydrostatics', 'summary': 'Fluid statics or hydrostatics is the branch of fluid mechanics that studies fluids at hydrostatic equilibrium and \"the pressure in a fluid or exerted by a fluid on an immersed body\".\\nIt encompasses the study of the conditions under which fluids are at rest in stable equilibrium as opposed to fluid dynamics, the study of fluids in motion. Hydrostatics is a subcategory of fluid statics, which is the study of all fluids, both compressible or incompressible, at rest.\\nHydrostatics is fundamental to hydraulics, the engineering of equipment for storing, transporting and using fluids.  It is also relevant to geophysics and astrophysics (for example, in understanding plate tectonics and the anomalies of the Earth\\'s gravitational field), to meteorology, to medicine (in the context of blood pressure), and many other fields.\\nHydrostatics offers physical explanations for many phenomena of everyday life, such as why atmospheric pressure changes with altitude, why wood and oil float on water, and why the surface of still water is always level according to the curvature of the earth.\\n\\n', 'title': 'Hydrostatics'}),\n",
              " Document(page_content='Fluid dynamics, a subdiscipline of fluid mechanics within physics and engineering, describes the behavior of fluids (liquids and gases) in motion. It encompits aerodynamics for air/gases and hydrodynamics for liquids. Applications range from aircraft design to weather prediction and astrophysics. Fluid dynamics relies on empirical laws derived from flow measurement, with solutions involving calculations of properties like velocity, pressure, density, and temperature over space and time.\\n\\nBefore the 20th century, hydrodynamics was synonymous with fluid dynamics; however, modern usage includes gases as well. The foundational axioms are conservation laws: mass, momentum, and', metadata={'source': 'https://en.wikipedia.org/wiki/Fluid_dynamics', 'summary': 'In physics, physical chemistry and engineering, fluid dynamics is a subdiscipline of fluid mechanics that describes the flow of fluids—liquids and gases. It has several subdisciplines, including aerodynamics (the study of air and other gases in motion) and hydrodynamics (the study of liquids in motion). Fluid dynamics has a wide range of applications, including calculating forces and moments on aircraft, determining the mass flow rate of petroleum through pipelines, predicting weather patterns, understanding nebulae in interstellar space and modelling fission weapon detonation.\\nFluid dynamics offers a systematic structure—which underlies these practical disciplines—that embraces empirical and semi-empirical laws derived from flow measurement and used to solve practical problems. The solution to a fluid dynamics problem typically involves the calculation of various properties of the fluid, such as flow velocity, pressure, density, and temperature, as functions of space and time.\\nBefore the twentieth century, hydrodynamics was synonymous with fluid dynamics. This is still reflected in names of some fluid dynamics topics, like magnetohydrodynamics and hydrodynamic stability, both of which can also be applied to gases.', 'title': 'Fluid dynamics'}),\n",
              " Document(page_content='Hydraulic engineering is a sub-discipline of civil engineering focused on the flow and conveyance of fluids like water and sewage. It utilizes gravity as a motive force for fluid movement, playing a crucial role in designing structures such as bridges, dams, channels, canals, and levees. The field also intersects with sanitary and environmental engineering. Hydraulic engineers address water collection, storage, control, transportation, regulation, measurement, and usage while considering sediment transport, river-boundary interactions, scour, and deposition phenomena.\\n\\nFundamental principles in hydraulic engineering include pressure measurement devices like pie', metadata={'source': 'https://en.wikipedia.org/wiki/Hydraulic_engineering', 'summary': 'Hydraulic engineering as a sub-discipline of civil engineering is concerned with the flow and conveyance of fluids, principally water and sewage. One feature of these systems is the extensive use of gravity as the motive force to cause the movement of the fluids. This area of civil engineering is intimately related to the design of bridges, dams, channels, canals, and levees, and to both sanitary and environmental engineering.\\nHydraulic engineering is the application of the principles of fluid mechanics to problems dealing with the collection, storage, control, transport, regulation, measurement, and use of water. Before beginning a hydraulic engineering project, one must figure out how much water is involved. The hydraulic engineer is concerned with the transport of sediment by the river, the interaction of the water with its alluvial boundary, and the occurrence of scour and deposition.  \"The hydraulic engineer actually develops conceptual  designs for the various features which interact with water such as spillways and outlet works for dams, culverts for highways, canals and related structures for irrigation projects,  and cooling-water facilities for thermal power plants.\"  \\n\\n', 'title': 'Hydraulic engineering'}),\n",
              " Document(page_content='Marine engineering encompasses the development, design, operation, and maintenance of watercraft propulsion and ocean systems, integrating various engineering disciplines such as mechanical, electrical, electronic, and computer science. It includes marine vehicles like boats, ships, submarines, coastal structures, and offshore platforms. The field has a rich history dating back to ancient civilizations but gained prominence in the 19th century with advancements in shipbuilding technology.\\n\\nEducationally, Marine engineers typically hold degrees such as Bachelor of Engineering (BEng) or Bachelor of Science (BS), Master of Engineering (MEng), and Master of Science (MSc). Licensing requirements', metadata={'source': 'https://en.wikipedia.org/wiki/Marine_engineering', 'summary': 'Marine engineering is the engineering of boats, ships, submarines, and any other marine vessel. Here it is also taken to include the engineering of other ocean systems and structures – referred to in certain academic and professional circles as \"ocean engineering\".\\nMarine engineering applies a number of engineering sciences, including mechanical engineering, electrical engineering, electronic engineering, and computer science, to the development, design, operation and maintenance of watercraft propulsion and ocean systems. It includes but is not limited to power and propulsion plants, machinery, piping, automation and control systems for marine vehicles of any kind, as well as coastal and offshore structures.', 'title': 'Marine engineering'})]"
            ]
          },
          "metadata": {},
          "execution_count": 41
        }
      ]
    },
    {
      "cell_type": "code",
      "source": [
        "result"
      ],
      "metadata": {
        "colab": {
          "base_uri": "https://localhost:8080/",
          "height": 53
        },
        "id": "Z8Mob-5BgvLd",
        "outputId": "5e7365af-76fa-4cb9-ce57-39b94f4a8de2"
      },
      "execution_count": 42,
      "outputs": [
        {
          "output_type": "execute_result",
          "data": {
            "text/plain": [
              "\"The fundamental concept of fluid mechanics is Pascal's Law, which states that any applied pressure to a fluid surface is transmitted uniformly throughout the fluid. This principle underlies many areas of fluid mechanics, including hydrostatics and fluid dynamics.\""
            ],
            "application/vnd.google.colaboratory.intrinsic+json": {
              "type": "string"
            }
          },
          "metadata": {},
          "execution_count": 42
        }
      ]
    },
    {
      "cell_type": "code",
      "source": [
        "combined_doc = \"\\n\".join([doc.page_content for doc in retrieved_docs])\n",
        "rag = dspy.Predict(GenerateAnswer)\n",
        "answer = rag(question= question, context= combined_doc).answer\n",
        "answer"
      ],
      "metadata": {
        "colab": {
          "base_uri": "https://localhost:8080/",
          "height": 70
        },
        "id": "BEuEI0os2wY8",
        "outputId": "9c7b6dbb-a73b-4ca3-ffb9-1abb9c19a231"
      },
      "execution_count": 45,
      "outputs": [
        {
          "output_type": "execute_result",
          "data": {
            "text/plain": [
              "\"The fundamental concepts of fluid mechanics include Pascal's Law, which states that any applied pressure to a fluid surface is transmitted uniformly throughout the fluid; conservation laws such as mass, momentum, and energy; and principles related to hydrostatics (fluids at rest) and hydrodynamics (flowing fluids).\""
            ],
            "application/vnd.google.colaboratory.intrinsic+json": {
              "type": "string"
            }
          },
          "metadata": {},
          "execution_count": 45
        }
      ]
    }
  ]
}